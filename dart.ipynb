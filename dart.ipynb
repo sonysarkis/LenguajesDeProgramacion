{
 "cells": [
  {
   "cell_type": "markdown",
   "metadata": {},
   "source": [
    "# Hello World\n",
    "\n",
    "Every app requires the top-level main() function, where execution starts. Functions that don't explicitly return a value have the void return type. To display text on the console, you can use the top-level print() function:"
   ]
  },
  {
   "cell_type": "code",
   "execution_count": null,
   "metadata": {
    "vscode": {
     "languageId": "plaintext"
    }
   },
   "outputs": [],
   "source": [
    "void main() {\n",
    "  print('Hello, World!');\n",
    "}"
   ]
  },
  {
   "cell_type": "markdown",
   "metadata": {},
   "source": [
    "# Variables\n",
    "\n",
    "Even in type-safe Dart code, you can declare most variables without explicitly specifying their type using var. Thanks to type inference, these variables' types are determined by their initial values:"
   ]
  },
  {
   "cell_type": "code",
   "execution_count": null,
   "metadata": {
    "vscode": {
     "languageId": "plaintext"
    }
   },
   "outputs": [],
   "source": [
    "var name = 'Voyager I';\n",
    "var year = 1977;\n",
    "var antennaDiameter = 3.7;\n",
    "var flybyObjects = ['Jupiter', 'Saturn', 'Uranus', 'Neptune'];\n",
    "var image = {\n",
    "  'tags': ['saturn'],\n",
    "  'url': '//path/to/saturn.jpg',\n",
    "};"
   ]
  },
  {
   "cell_type": "markdown",
   "metadata": {},
   "source": [
    "# Control flow statements\n",
    "\n",
    "Dart supports the usual control flow statements:"
   ]
  },
  {
   "cell_type": "code",
   "execution_count": null,
   "metadata": {
    "vscode": {
     "languageId": "plaintext"
    }
   },
   "outputs": [],
   "source": [
    "if (year >= 2001) {\n",
    "  print('21st century');\n",
    "} else if (year >= 1901) {\n",
    "  print('20th century');\n",
    "}\n",
    "\n",
    "for (final object in flybyObjects) {\n",
    "  print(object);\n",
    "}\n",
    "\n",
    "for (int month = 1; month <= 12; month++) {\n",
    "  print(month);\n",
    "}\n",
    "\n",
    "while (year < 2016) {\n",
    "  year += 1;\n",
    "}"
   ]
  },
  {
   "cell_type": "markdown",
   "metadata": {},
   "source": [
    "# Functions\n",
    "\n",
    "We recommend specifying the types of each function's arguments and return value:"
   ]
  },
  {
   "cell_type": "code",
   "execution_count": null,
   "metadata": {
    "vscode": {
     "languageId": "plaintext"
    }
   },
   "outputs": [],
   "source": [
    "int fibonacci(int n) {\n",
    "  if (n == 0 || n == 1) return n;\n",
    "  return fibonacci(n - 1) + fibonacci(n - 2);\n",
    "}\n",
    "\n",
    "var result = fibonacci(20);"
   ]
  },
  {
   "cell_type": "markdown",
   "metadata": {},
   "source": [
    "A shorthand => (arrow) syntax is handy for functions that contain a single statement. This syntax is especially useful when passing anonymous functions as arguments:"
   ]
  },
  {
   "cell_type": "code",
   "execution_count": null,
   "metadata": {
    "vscode": {
     "languageId": "plaintext"
    }
   },
   "outputs": [],
   "source": [
    "flybyObjects.where((name) => name.contains('turn')).forEach(print);"
   ]
  },
  {
   "cell_type": "markdown",
   "metadata": {},
   "source": [
    "Besides showing an anonymous function (the argument to where()), this code shows that you can use a function as an argument: the top-level print() function is an argument to forEach()."
   ]
  },
  {
   "cell_type": "markdown",
   "metadata": {},
   "source": [
    "# Comments\n",
    "\n",
    "Dart comments usually start with //."
   ]
  },
  {
   "cell_type": "code",
   "execution_count": null,
   "metadata": {
    "vscode": {
     "languageId": "plaintext"
    }
   },
   "outputs": [],
   "source": [
    "// This is a normal, one-line comment.\n",
    "\n",
    "/// This is a documentation comment, used to document libraries,\n",
    "/// classes, and their members. Tools like IDEs and dartdoc treat\n",
    "/// doc comments specially.\n",
    "\n",
    "/* Comments like these are also supported. */"
   ]
  },
  {
   "cell_type": "markdown",
   "metadata": {},
   "source": [
    "# Imports\n",
    "\n",
    "To access APIs defined in other libraries, use import."
   ]
  },
  {
   "cell_type": "code",
   "execution_count": null,
   "metadata": {
    "vscode": {
     "languageId": "plaintext"
    }
   },
   "outputs": [],
   "source": [
    "// Importing core libraries\n",
    "import 'dart:math';\n",
    "\n",
    "// Importing libraries from external packages\n",
    "import 'package:test/test.dart';\n",
    "\n",
    "// Importing files\n",
    "import 'path/to/my_other_file.dart';"
   ]
  },
  {
   "cell_type": "markdown",
   "metadata": {},
   "source": [
    "# Classes\n",
    "\n",
    "Here's an example of a class with three properties, two constructors, and a method. One of the properties can't be set directly, so it's defined using a getter method (instead of a variable). The method uses string interpolation to print variables' string equivalents inside of string literals."
   ]
  },
  {
   "cell_type": "code",
   "execution_count": null,
   "metadata": {
    "vscode": {
     "languageId": "plaintext"
    }
   },
   "outputs": [],
   "source": [
    "class Spacecraft {\n",
    "  String name;\n",
    "  DateTime? launchDate;\n",
    "\n",
    "  // Read-only non-final property\n",
    "  int? get launchYear => launchDate?.year;\n",
    "\n",
    "  // Constructor, with syntactic sugar for assignment to members.\n",
    "  Spacecraft(this.name, this.launchDate) {\n",
    "    // Initialization code goes here.\n",
    "  }\n",
    "\n",
    "  // Named constructor that forwards to the default one.\n",
    "  Spacecraft.unlaunched(String name) : this(name, null);\n",
    "\n",
    "  // Method.\n",
    "  void describe() {\n",
    "    print('Spacecraft: $name');\n",
    "    // Type promotion doesn't work on getters.\n",
    "    var launchDate = this.launchDate;\n",
    "    if (launchDate != null) {\n",
    "      int years = DateTime.now().difference(launchDate).inDays ~/ 365;\n",
    "      print('Launched: $launchYear ($years years ago)');\n",
    "    } else {\n",
    "      print('Unlaunched');\n",
    "    }\n",
    "  }\n",
    "}"
   ]
  },
  {
   "cell_type": "markdown",
   "metadata": {},
   "source": [
    "You might use the Spacecraft class like this:"
   ]
  },
  {
   "cell_type": "code",
   "execution_count": null,
   "metadata": {
    "vscode": {
     "languageId": "plaintext"
    }
   },
   "outputs": [],
   "source": [
    "var voyager = Spacecraft('Voyager I', DateTime(1977, 9, 5));\n",
    "voyager.describe();\n",
    "\n",
    "var voyager3 = Spacecraft.unlaunched('Voyager III');\n",
    "voyager3.describe();"
   ]
  },
  {
   "cell_type": "markdown",
   "metadata": {},
   "source": [
    "# Enums\n",
    "\n",
    "Enums are a way of enumerating a predefined set of values or instances in a way which ensures that there cannot be any other instances of that type.\n",
    "\n",
    "Here is an example of a simple enum that defines a simple list of predefined planet types:"
   ]
  },
  {
   "cell_type": "code",
   "execution_count": null,
   "metadata": {
    "vscode": {
     "languageId": "plaintext"
    }
   },
   "outputs": [],
   "source": [
    "enum PlanetType { terrestrial, gas, ice }"
   ]
  },
  {
   "cell_type": "markdown",
   "metadata": {},
   "source": [
    "Here is an example of an enhanced enum declaration of a class describing planets, with a defined set of constant instances, namely the planets of our own solar system."
   ]
  },
  {
   "cell_type": "code",
   "execution_count": null,
   "metadata": {
    "vscode": {
     "languageId": "plaintext"
    }
   },
   "outputs": [],
   "source": [
    "/// Enum that enumerates the different planets in our solar system\n",
    "/// and some of their properties.\n",
    "enum Planet {\n",
    "  mercury(planetType: PlanetType.terrestrial, moons: 0, hasRings: false),\n",
    "  venus(planetType: PlanetType.terrestrial, moons: 0, hasRings: false),\n",
    "  // ···\n",
    "  uranus(planetType: PlanetType.ice, moons: 27, hasRings: true),\n",
    "  neptune(planetType: PlanetType.ice, moons: 14, hasRings: true);\n",
    "\n",
    "  /// A constant generating constructor\n",
    "  const Planet({\n",
    "    required this.planetType,\n",
    "    required this.moons,\n",
    "    required this.hasRings,\n",
    "  });\n",
    "\n",
    "  /// All instance variables are final\n",
    "  final PlanetType planetType;\n",
    "  final int moons;\n",
    "  final bool hasRings;\n",
    "\n",
    "  /// Enhanced enums support getters and other methods\n",
    "  bool get isGiant =>\n",
    "      planetType == PlanetType.gas || planetType == PlanetType.ice;\n",
    "}"
   ]
  },
  {
   "cell_type": "markdown",
   "metadata": {},
   "source": [
    "You might use the Planet enum like this:"
   ]
  },
  {
   "cell_type": "code",
   "execution_count": null,
   "metadata": {
    "vscode": {
     "languageId": "plaintext"
    }
   },
   "outputs": [],
   "source": [
    "final yourPlanet = Planet.earth;\n",
    "\n",
    "if (!yourPlanet.isGiant) {\n",
    "  print('Your planet is not a \"giant planet\".');\n",
    "}"
   ]
  },
  {
   "cell_type": "markdown",
   "metadata": {},
   "source": [
    "# Inheritance\n",
    "\n",
    "Dart has single inheritance."
   ]
  },
  {
   "cell_type": "code",
   "execution_count": null,
   "metadata": {
    "vscode": {
     "languageId": "plaintext"
    }
   },
   "outputs": [],
   "source": [
    "class Orbiter extends Spacecraft {\n",
    "  double altitude;\n",
    "\n",
    "  Orbiter(super.name, DateTime super.launchDate, this.altitude);\n",
    "}"
   ]
  },
  {
   "cell_type": "markdown",
   "metadata": {},
   "source": [
    "# Mixins\n",
    "\n",
    "Mixins are a way of reusing code in multiple class hierarchies. The following is a mixin declaration:"
   ]
  },
  {
   "cell_type": "code",
   "execution_count": null,
   "metadata": {
    "vscode": {
     "languageId": "plaintext"
    }
   },
   "outputs": [],
   "source": [
    "mixin Piloted {\n",
    "  int astronauts = 1;\n",
    "\n",
    "  void describeCrew() {\n",
    "    print('Number of astronauts: $astronauts');\n",
    "  }\n",
    "}"
   ]
  },
  {
   "cell_type": "markdown",
   "metadata": {},
   "source": [
    "# Interfaces and abstract classes\n",
    "\n",
    "All classes implicitly define an interface. Therefore, you can implement any class."
   ]
  },
  {
   "cell_type": "code",
   "execution_count": null,
   "metadata": {
    "vscode": {
     "languageId": "plaintext"
    }
   },
   "outputs": [],
   "source": [
    "class MockSpaceship implements Spacecraft {\n",
    "  // ···\n",
    "}\n",
    "\n",
    "abstract class Describable {\n",
    "  void describe();\n",
    "\n",
    "  void describeWithEmphasis() {\n",
    "    print('=========');\n",
    "    describe();\n",
    "    print('=========');\n",
    "  }\n",
    "}"
   ]
  },
  {
   "cell_type": "markdown",
   "metadata": {},
   "source": [
    "# Async\n",
    "\n",
    "Avoid callback hell and make your code much more readable by using async and await."
   ]
  },
  {
   "cell_type": "code",
   "execution_count": null,
   "metadata": {
    "vscode": {
     "languageId": "plaintext"
    }
   },
   "outputs": [],
   "source": [
    "const oneSecond = Duration(seconds: 1);\n",
    "// ···\n",
    "Future<void> printWithDelay(String message) async {\n",
    "  await Future.delayed(oneSecond);\n",
    "  print(message);\n",
    "}\n",
    "\n",
    "Future<void> printWithDelay(String message) {\n",
    "  return Future.delayed(oneSecond).then((_) {\n",
    "    print(message);\n",
    "  });\n",
    "}"
   ]
  },
  {
   "cell_type": "markdown",
   "metadata": {},
   "source": [
    "# Exceptions\n",
    "\n",
    "To raise an exception, use throw:"
   ]
  },
  {
   "cell_type": "code",
   "execution_count": null,
   "metadata": {
    "vscode": {
     "languageId": "plaintext"
    }
   },
   "outputs": [],
   "source": [
    "if (astronauts == 0) {\n",
    "  throw StateError('No astronauts.');\n",
    "}\n",
    "\n",
    "Future<void> describeFlybyObjects(List<String> flybyObjects) async {\n",
    "  try {\n",
    "    for (final object in flybyObjects) {\n",
    "      var description = await File('$object.txt').readAsString();\n",
    "      print(description);\n",
    "    }\n",
    "  } on IOException catch (e) {\n",
    "    print('Could not describe object: $e');\n",
    "  } finally {\n",
    "    flybyObjects.clear();\n",
    "  }\n",
    "}"
   ]
  }
 ],
 "metadata": {
  "language_info": {
   "name": "python"
  }
 },
 "nbformat": 4,
 "nbformat_minor": 2
}
