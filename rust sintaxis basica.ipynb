{
 "cells": [
  {
   "cell_type": "markdown",
   "metadata": {},
   "source": [
    "# Introducción a la Sintaxis Básica de Rust 🦀\n",
    "\n",
    "Hola, Empecemos con los conceptos básicos para entender este poderoso lenguaje de programación. 3\n",
    "\n",
    "## 1. Variables y Mutabilidad 🚀\n",
    "\n",
    "En Rust, por defecto, todas las variables son inmutables. Pero si te gusta vivir al límite loma abajo y sin frenos, puedes hacerlas mutables con `mut`. veamoslo\n",
    "\n"
   ]
  },
  {
   "cell_type": "code",
   "execution_count": null,
   "metadata": {},
   "outputs": [],
   "source": [
    "// Variables inmutables\n",
    "let pi = 3.14;\n",
    "println!(\"El valor de pi es: {}\", pi);\n",
    "\n",
    "// Variables mutables\n",
    "let mut contador = 0;\n",
    "contador += 1;\n",
    "println!(\"El contador es ahora: {}\", contador);\n"
   ]
  },
  {
   "cell_type": "markdown",
   "metadata": {},
   "source": [
    "Como puedes ver, `pi` no cambia, como esa amiga que sigue sin prestarte el cargador de su celular. Pero `contador` puede cambiar, cual montaña rusa emocional.\n",
    "\n",
    "## 2. Tipos de Datos Primarios 🧠\n",
    "\n",
    "Rust tiene varios tipos de datos primarios, como enteros (`i32`), flotantes (`f64`), booleanos (`bool`), y caracteres (`char`). Vamos a mostrarlos en acción:\n",
    "\n"
   ]
  },
  {
   "cell_type": "code",
   "execution_count": null,
   "metadata": {},
   "outputs": [],
   "source": [
    "let numero_enteros: i32 = 42;\n",
    "let numero_flotante: f64 = 3.141592;\n",
    "let es_verdad: bool = true;\n",
    "let letra: char = 'A';\n",
    "\n",
    "println!(\"El número entero es: {}\", numero_enteros);\n",
    "println!(\"El número flotante es: {}\", numero_flotante);\n",
    "println!(\"El booleano es: {}\", es_verdad);\n",
    "println!(\"El carácter es: {}\", letra);\n"
   ]
  },
  {
   "cell_type": "markdown",
   "metadata": {},
   "source": [
    "Ahora puedes manejar números, decidir verdades y hasta comunicarte con letras. cool.\n",
    "\n",
    "## 3. Funciones 🎛️\n",
    "\n",
    "Las funciones en Rust son como recetas de cocina: te dicen qué necesitas (`parametros`) y qué puedes esperar de ellas (`return`).\n",
    "\n"
   ]
  },
  {
   "cell_type": "code",
   "execution_count": null,
   "metadata": {},
   "outputs": [],
   "source": [
    "fn suma(a: i32, b: i32) -> i32 {\n",
    "    a + b\n",
    "}\n",
    "\n",
    "let resultado = suma(5, 10);\n",
    "println!(\"La suma de 5 y 10 es: {}\", resultado);\n"
   ]
  },
  {
   "cell_type": "markdown",
   "metadata": {},
   "source": [
    "`fn` es como la varita de harry potter para definir funciones. Suma es nuestra receta sencilla que toma dos parametros y devuelve un número.\n",
    "\n",
    "## 4. Condicionales y Bucles 🎢\n",
    "\n",
    "Condicionales (`if`, `else`) y bucles (`for`, `while`) te permiten hacer decisiones y repetir tareas, como elegir qué película ver o cuántas veces repetir un chiste hasta que tenga gracia.\n",
    "\n"
   ]
  },
  {
   "cell_type": "code",
   "execution_count": null,
   "metadata": {},
   "outputs": [],
   "source": [
    "let edad = 18;\n",
    "\n",
    "if edad >= 18 {\n",
    "    println!(\"Puedes votar 🗳️\");\n",
    "} else {\n",
    "    println!(\"Aún no puedes votar 😞\");\n",
    "}\n",
    "\n",
    "let elementos = [1, 2, 3, 4, 5];\n",
    "\n",
    "for elemento in elementos.iter() {\n",
    "    println!(\"Elemento: {}\", elemento);\n",
    "}\n",
    "\n",
    "let mut contador = 0;\n",
    "\n",
    "while contador < 5 {\n",
    "    println!(\"Contador: {}\", contador);\n",
    "    contador += 1;\n",
    "}\n"
   ]
  },
  {
   "cell_type": "markdown",
   "metadata": {},
   "source": [
    "¿Ves? Con `if` decides si puedes votar, `for` te ayuda a pasar por cada elemento, y `while` es tu pana en repetir cosas hasta que digas basta.\n",
    "\n",
    "Este es un vistazo a la sintaxis básica de Rust, Si tienes más preguntas o necesitas ejemplos más avanzados\n"
   ]
  }
 ],
 "metadata": {
  "language_info": {
   "name": "python"
  }
 },
 "nbformat": 4,
 "nbformat_minor": 2
}
