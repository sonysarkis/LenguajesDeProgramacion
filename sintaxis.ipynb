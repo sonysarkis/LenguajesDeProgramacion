{
 "cells": [
  {
   "cell_type": "markdown",
   "metadata": {},
   "source": [
    "**1. Estructura básica de un programa en Go\n",
    "Un programa en Go siempre comienza con el paquete principal ( main) y debe incluir al menos una función principal ( main()), que es el punto de entrada del programa:**\n",
    "\n",
    "package main: Declara el paquete principal del programa.\n",
    "\n",
    "import: Se utiliza para incluir paquetes estándar o de terceros.\n",
    "\n",
    "func main(): Defina la función principal."
   ]
  },
  {
   "cell_type": "code",
   "execution_count": null,
   "metadata": {
    "vscode": {
     "languageId": "plaintext"
    }
   },
   "outputs": [],
   "source": [
    "package main\n",
    "\n",
    "import \"fmt\" // Paquete para imprimir en consola\n",
    "\n",
    "func main() {\n",
    "    fmt.Println(\"¡Hola, mundo!\")\n",
    "}\n"
   ]
  },
  {
   "cell_type": "markdown",
   "metadata": {},
   "source": [
    "**2. Variables y constantes\n",
    "Go es un lenguaje tipado estáticamente. Puedes declarar variables y constantes de diversas maneras:**\n",
    "\n",
    "Declaración de variables\n"
   ]
  },
  {
   "cell_type": "code",
   "execution_count": null,
   "metadata": {
    "vscode": {
     "languageId": "plaintext"
    }
   },
   "outputs": [],
   "source": [
    "\n",
    "// Formato (con tipo):\n",
    "\n",
    "var x int = 10\n",
    "var y string = \"Hola\"\n",
    "var z bool = true\n"
   ]
  },
  {
   "cell_type": "code",
   "execution_count": null,
   "metadata": {
    "vscode": {
     "languageId": "plaintext"
    }
   },
   "outputs": [],
   "source": [
    "// Forma implícita (inferencia de tipos):\n",
    "\n",
    "x := 10      // El tipo se infiere como int\n",
    "y := \"Hola\"  // El tipo se infiere como string\n"
   ]
  },
  {
   "cell_type": "code",
   "execution_count": null,
   "metadata": {
    "vscode": {
     "languageId": "plaintext"
    }
   },
   "outputs": [],
   "source": [
    "// Variables múltiples:\n",
    "\n",
    "var a, b, c int = 1, 2, 3\n",
    "d, e, f := 4, \"texto\", true\n"
   ]
  },
  {
   "cell_type": "code",
   "execution_count": null,
   "metadata": {
    "vscode": {
     "languageId": "plaintext"
    }
   },
   "outputs": [],
   "source": [
    "\n",
    "// Las constantes se declaran con consty no pueden cambiar su valor:\n",
    "\n",
    "const pi = 3.14\n",
    "const mensaje = \"Esto es una constante\"\n"
   ]
  },
  {
   "cell_type": "markdown",
   "metadata": {},
   "source": [
    "3. Tipos de datos\n",
    "Principales tipos en Go:\n",
    "Numéricos:\n",
    "\n",
    "Enteros: int, int8, int16, int32, int64, uint, uintptr.\n",
    "Flotantes: float32, float64.\n",
    "Complejos: complex64, complex128.\n",
    "Texto: string .\n",
    "\n",
    "Booleanos: bool .\n",
    "\n",
    "Otros:\n",
    "\n",
    "array:Arreglo de tamaño fijo.\n",
    "slice: Secuencia dinámica de elementos.\n",
    "map: Colección de pares clave-valor.\n",
    "struct: Agrupación de campos personalizados."
   ]
  },
  {
   "cell_type": "markdown",
   "metadata": {},
   "source": [
    "4. Estructuras de control"
   ]
  },
  {
   "cell_type": "code",
   "execution_count": null,
   "metadata": {
    "vscode": {
     "languageId": "plaintext"
    }
   },
   "outputs": [],
   "source": [
    "// Condicionales\n",
    "\n",
    "x := 10\n",
    "if x > 5 {\n",
    "    fmt.Println(\"x es mayor que 5\")\n",
    "} else if x == 5 {\n",
    "    fmt.Println(\"x es igual a 5\")\n",
    "} else {\n",
    "    fmt.Println(\"x es menor que 5\")\n",
    "}\n"
   ]
  },
  {
   "cell_type": "code",
   "execution_count": null,
   "metadata": {
    "vscode": {
     "languageId": "plaintext"
    }
   },
   "outputs": [],
   "source": [
    "// El único bucle en Go es for(no tiene whileni do-while):\n",
    "// Ciclo for \n",
    "\n",
    "for i := 0; i < 10; i++ {\n",
    "    fmt.Println(i)\n",
    "}\n"
   ]
  },
  {
   "cell_type": "code",
   "execution_count": null,
   "metadata": {
    "vscode": {
     "languageId": "plaintext"
    }
   },
   "outputs": [],
   "source": [
    "// Forma como while:\n",
    "\n",
    "x := 0\n",
    "for x < 5 {\n",
    "    fmt.Println(x)\n",
    "    x++\n",
    "}\n"
   ]
  },
  {
   "cell_type": "code",
   "execution_count": null,
   "metadata": {
    "vscode": {
     "languageId": "plaintext"
    }
   },
   "outputs": [],
   "source": [
    "// Bucle infinito:\n",
    "\n",
    "for {\n",
    "    fmt.Println(\"Esto se ejecuta indefinidamente\")\n",
    "}\n"
   ]
  },
  {
   "cell_type": "markdown",
   "metadata": {},
   "source": [
    "**5. Funciones:\n",
    "Las funciones en Go se definen con la palabra clave func:**\n",
    "\n",
    "// Sin retorno:\n",
    "\n",
    "func saludar(nombre string) {\n",
    "\n",
    "    fmt.Println(\"Hola,\", nombre)\n",
    "\n",
    "}\n",
    "\n",
    "\n",
    "// Con retorno:\n",
    "\n",
    "func suma(a int, b int) int {\n",
    "\n",
    "    return a + b\n",
    "\n",
    "}\n",
    "\n",
    "\n",
    "// Múltiples retornos:\n",
    "\n",
    "func dividir(a, b int) (int, int) {\n",
    "\n",
    "    return a / b, a % b\n",
    "\n",
    "}\n",
    "\n",
    "\n",
    "// Funciones anónimas:\n",
    "\n",
    "mensaje := func() {\n",
    "\n",
    "    fmt.Println(\"Función anónima\")\n",
    "\n",
    "}\n",
    "\n",
    "mensaje()\n"
   ]
  },
  {
   "cell_type": "markdown",
   "metadata": {},
   "source": [
    "**6. Arreglos y rebanadas**\n",
    "\n",
    "// Arreglos: Un arreglo tiene un tamaño fijo:\n",
    "\n",
    "var numeros [5]int = [5]int{1, 2, 3, 4, 5}\n",
    "\n",
    "\n",
    "// Rebanadas: son más flexibles\n",
    "\n",
    "numeros := []int{1, 2, 3, 4, 5}\n",
    "\n",
    "numeros = append(numeros, 6) // Añadir elementos\n"
   ]
  },
  {
   "cell_type": "markdown",
   "metadata": {},
   "source": [
    "**7. Mapas\n",
    "Un mapa almacena pares clave-valor:**\n",
    "\n",
    "capitales := map[string]string{\n",
    "\n",
    "    \"México\": \"Ciudad de México\",\n",
    "\n",
    "    \"España\": \"Madrid\",\n",
    "    \n",
    "}\n",
    "\n",
    "fmt.Println(capitales[\"México\"]) // Ciudad de México\n"
   ]
  },
  {
   "cell_type": "markdown",
   "metadata": {},
   "source": [
    "**8. Estructuras\n",
    "Las estructuras permiten definir tipos personalizados:**\n",
    "\n",
    "\n",
    "type Persona struct {\n",
    "\n",
    "    Nombre string\n",
    "    \n",
    "    Edad   int\n",
    "\n",
    "}\n",
    "\n",
    "\n",
    "func main() {\n",
    "\n",
    "    p := Persona{Nombre: \"Juliano\", Edad: 25}\n",
    "\n",
    "    fmt.Println(p.Nombre, p.Edad)\n",
    "\n",
    "}\n"
   ]
  },
  {
   "cell_type": "markdown",
   "metadata": {},
   "source": [
    "**9. Concurrencia con gorutinas\n",
    "Go es famoso por su soporte para la concurrencia mediante goroutines:**\n",
    "\n",
    "\n",
    "\n",
    "func imprimir() {\n",
    "\n",
    "    fmt.Println(\"Esto es una goroutine\")\n",
    "\n",
    "}\n",
    "\n",
    "\n",
    "\n",
    "func main() {\n",
    "\n",
    "    go imprimir() // Ejecuta en una goroutine\n",
    "\n",
    "    fmt.Println(\"Programa principal\")\n",
    "\n",
    "}\n"
   ]
  },
  {
   "cell_type": "markdown",
   "metadata": {},
   "source": [
    "**10. Errores\n",
    "El manejo de errores es explícito:**\n",
    "\n",
    "\n",
    "import \"errors\"\n",
    "\n",
    "func dividir(a, b int) (int, error) {\n",
    "\n",
    "    if b == 0 {\n",
    "\n",
    "        return 0, errors.New(\"no se puede dividir entre cero\")\n",
    "\n",
    "    }\n",
    "\n",
    "    return a / b, nil\n",
    "    \n",
    "}\n"
   ]
  }
 ],
 "metadata": {
  "language_info": {
   "name": "python"
  }
 },
 "nbformat": 4,
 "nbformat_minor": 2
}
